{
 "cells": [
  {
   "cell_type": "markdown",
   "metadata": {},
   "source": [
    "The objective of this HW is to implement k-NN and cross-validation to find the best value of $k$ for a binary classification task. The task to diagnose breast cancer based on 30 numeric features. However, to keep things simple, we will only use two of those features. The output is binary: 0 benign, 1 malignant. In all there are 569 examples, which we will split into training and test sets. There are no missing values. "
   ]
  },
  {
   "cell_type": "code",
   "execution_count": 1,
   "metadata": {},
   "outputs": [],
   "source": [
    "# load the data set\n",
    "import numpy as np\n",
    "import sklearn.datasets\n",
    "dat = sklearn.datasets.load_breast_cancer()"
   ]
  },
  {
   "cell_type": "code",
   "execution_count": 2,
   "metadata": {},
   "outputs": [
    {
     "name": "stdout",
     "output_type": "stream",
     "text": [
      "Breast Cancer Wisconsin (Diagnostic) Database\n",
      "=============================================\n",
      "\n",
      "Notes\n",
      "-----\n",
      "Data Set Characteristics:\n",
      "    :Number of Instances: 569\n",
      "\n",
      "    :Number of Attributes: 30 numeric, predictive attributes and the class\n",
      "\n",
      "    :Attribute Information:\n",
      "        - radius (mean of distances from center to points on the perimeter)\n",
      "        - texture (standard deviation of gray-scale values)\n",
      "        - perimeter\n",
      "        - area\n",
      "        - smoothness (local variation in radius lengths)\n",
      "        - compactness (perimeter^2 / area - 1.0)\n",
      "        - concavity (severity of concave portions of the contour)\n",
      "        - concave points (number of concave portions of the contour)\n",
      "        - symmetry \n",
      "        - fractal dimension (\"coastline approximation\" - 1)\n",
      "\n",
      "        The mean, standard error, and \"worst\" or largest (mean of the three\n",
      "        largest values) of these features were computed for each image,\n",
      "        resulting in 30 features.  For instance, field 3 is Mean Radius, field\n",
      "        13 is Radius SE, field 23 is Worst Radius.\n",
      "\n",
      "        - class:\n",
      "                - WDBC-Malignant\n",
      "                - WDBC-Benign\n",
      "\n",
      "    :Summary Statistics:\n",
      "\n",
      "    ===================================== ====== ======\n",
      "                                           Min    Max\n",
      "    ===================================== ====== ======\n",
      "    radius (mean):                        6.981  28.11\n",
      "    texture (mean):                       9.71   39.28\n",
      "    perimeter (mean):                     43.79  188.5\n",
      "    area (mean):                          143.5  2501.0\n",
      "    smoothness (mean):                    0.053  0.163\n",
      "    compactness (mean):                   0.019  0.345\n",
      "    concavity (mean):                     0.0    0.427\n",
      "    concave points (mean):                0.0    0.201\n",
      "    symmetry (mean):                      0.106  0.304\n",
      "    fractal dimension (mean):             0.05   0.097\n",
      "    radius (standard error):              0.112  2.873\n",
      "    texture (standard error):             0.36   4.885\n",
      "    perimeter (standard error):           0.757  21.98\n",
      "    area (standard error):                6.802  542.2\n",
      "    smoothness (standard error):          0.002  0.031\n",
      "    compactness (standard error):         0.002  0.135\n",
      "    concavity (standard error):           0.0    0.396\n",
      "    concave points (standard error):      0.0    0.053\n",
      "    symmetry (standard error):            0.008  0.079\n",
      "    fractal dimension (standard error):   0.001  0.03\n",
      "    radius (worst):                       7.93   36.04\n",
      "    texture (worst):                      12.02  49.54\n",
      "    perimeter (worst):                    50.41  251.2\n",
      "    area (worst):                         185.2  4254.0\n",
      "    smoothness (worst):                   0.071  0.223\n",
      "    compactness (worst):                  0.027  1.058\n",
      "    concavity (worst):                    0.0    1.252\n",
      "    concave points (worst):               0.0    0.291\n",
      "    symmetry (worst):                     0.156  0.664\n",
      "    fractal dimension (worst):            0.055  0.208\n",
      "    ===================================== ====== ======\n",
      "\n",
      "    :Missing Attribute Values: None\n",
      "\n",
      "    :Class Distribution: 212 - Malignant, 357 - Benign\n",
      "\n",
      "    :Creator:  Dr. William H. Wolberg, W. Nick Street, Olvi L. Mangasarian\n",
      "\n",
      "    :Donor: Nick Street\n",
      "\n",
      "    :Date: November, 1995\n",
      "\n",
      "This is a copy of UCI ML Breast Cancer Wisconsin (Diagnostic) datasets.\n",
      "https://goo.gl/U2Uwz2\n",
      "\n",
      "Features are computed from a digitized image of a fine needle\n",
      "aspirate (FNA) of a breast mass.  They describe\n",
      "characteristics of the cell nuclei present in the image.\n",
      "\n",
      "Separating plane described above was obtained using\n",
      "Multisurface Method-Tree (MSM-T) [K. P. Bennett, \"Decision Tree\n",
      "Construction Via Linear Programming.\" Proceedings of the 4th\n",
      "Midwest Artificial Intelligence and Cognitive Science Society,\n",
      "pp. 97-101, 1992], a classification method which uses linear\n",
      "programming to construct a decision tree.  Relevant features\n",
      "were selected using an exhaustive search in the space of 1-4\n",
      "features and 1-3 separating planes.\n",
      "\n",
      "The actual linear program used to obtain the separating plane\n",
      "in the 3-dimensional space is that described in:\n",
      "[K. P. Bennett and O. L. Mangasarian: \"Robust Linear\n",
      "Programming Discrimination of Two Linearly Inseparable Sets\",\n",
      "Optimization Methods and Software 1, 1992, 23-34].\n",
      "\n",
      "This database is also available through the UW CS ftp server:\n",
      "\n",
      "ftp ftp.cs.wisc.edu\n",
      "cd math-prog/cpo-dataset/machine-learn/WDBC/\n",
      "\n",
      "References\n",
      "----------\n",
      "   - W.N. Street, W.H. Wolberg and O.L. Mangasarian. Nuclear feature extraction \n",
      "     for breast tumor diagnosis. IS&T/SPIE 1993 International Symposium on \n",
      "     Electronic Imaging: Science and Technology, volume 1905, pages 861-870,\n",
      "     San Jose, CA, 1993.\n",
      "   - O.L. Mangasarian, W.N. Street and W.H. Wolberg. Breast cancer diagnosis and \n",
      "     prognosis via linear programming. Operations Research, 43(4), pages 570-577, \n",
      "     July-August 1995.\n",
      "   - W.H. Wolberg, W.N. Street, and O.L. Mangasarian. Machine learning techniques\n",
      "     to diagnose breast cancer from fine-needle aspirates. Cancer Letters 77 (1994) \n",
      "     163-171.\n",
      "\n"
     ]
    }
   ],
   "source": [
    "print(dat.DESCR)"
   ]
  },
  {
   "cell_type": "code",
   "execution_count": 3,
   "metadata": {},
   "outputs": [
    {
     "data": {
      "text/plain": [
       "dict_keys(['data', 'target', 'target_names', 'DESCR', 'feature_names'])"
      ]
     },
     "execution_count": 3,
     "metadata": {},
     "output_type": "execute_result"
    }
   ],
   "source": [
    "# dat is a dictionary with the data, let's see what keys it has\n",
    "dat.keys()"
   ]
  },
  {
   "cell_type": "code",
   "execution_count": 4,
   "metadata": {},
   "outputs": [],
   "source": [
    "# we will use two features: 'mean area' and 'mean concave points'\n",
    "ix1 = np.where(dat[\"feature_names\"] == \"mean area\")[0][0]\n",
    "ix2 = np.where(dat[\"feature_names\"] == \"mean concave points\")[0][0]"
   ]
  },
  {
   "cell_type": "code",
   "execution_count": 5,
   "metadata": {},
   "outputs": [
    {
     "name": "stdout",
     "output_type": "stream",
     "text": [
      "(569, 2) (569,)\n",
      "Number of points: 569\n",
      "range (min, max), X1: (143.50, 2501.00), X2: (0.00, 0.20)\n",
      "mean: 654.89, 0.05\n",
      "variance: 123843.55, 0.001506\n"
     ]
    },
    {
     "data": {
      "text/plain": [
       "array([0, 0, 0, 0, 0, 0, 0, 0, 0, 0, 0, 0, 0, 0, 0, 0, 0, 0, 0, 1, 1, 1,\n",
       "       0, 0, 0, 0, 0, 0, 0, 0, 0, 0, 0, 0, 0, 0, 0, 1, 0, 0, 0, 0, 0, 0,\n",
       "       0, 0, 1, 0, 1, 1, 1, 1, 1, 0, 0, 1, 0, 0, 1, 1, 1, 1, 0, 1, 0, 0,\n",
       "       1, 1, 1, 1, 0, 1, 0, 0, 1, 0, 1, 0, 0, 1, 1, 1, 0, 0, 1, 0, 0, 0,\n",
       "       1, 1, 1, 0, 1, 1, 0, 0, 1, 1, 1, 0, 0, 1, 1, 1, 1, 0, 1, 1, 0, 1,\n",
       "       1, 1, 1, 1, 1, 1, 1, 0, 0, 0, 1, 0, 0, 1, 1, 1, 0, 0, 1, 0, 1, 0,\n",
       "       0, 1, 0, 0, 1, 1, 0, 1, 1, 0, 1, 1, 1, 1, 0, 1, 1, 1, 1, 1, 1, 1,\n",
       "       1, 1, 0, 1, 1, 1, 1, 0, 0, 1, 0, 1, 1, 0, 0, 1, 1, 0, 0, 1, 1, 1,\n",
       "       1, 0, 1, 1, 0, 0, 0, 1, 0, 1, 0, 1, 1, 1, 0, 1, 1, 0, 0, 1, 0, 0,\n",
       "       0, 0, 1, 0, 0, 0, 1, 0, 1, 0, 1, 1, 0, 1, 0, 0, 0, 0, 1, 1, 0, 0,\n",
       "       1, 1, 1, 0, 1, 1, 1, 1, 1, 0, 0, 1, 1, 0, 1, 1, 0, 0, 1, 0, 1, 1,\n",
       "       1, 1, 0, 1, 1, 1, 1, 1, 0, 1, 0, 0, 0, 0, 0, 0, 0, 0, 0, 0, 0, 0,\n",
       "       0, 0, 1, 1, 1, 1, 1, 1, 0, 1, 0, 1, 1, 0, 1, 1, 0, 1, 0, 0, 1, 1,\n",
       "       1, 1, 1, 1, 1, 1, 1, 1, 1, 1, 1, 0, 1, 1, 0, 1, 0, 1, 1, 1, 1, 1,\n",
       "       1, 1, 1, 1, 1, 1, 1, 1, 1, 0, 1, 1, 1, 0, 1, 0, 1, 1, 1, 1, 0, 0,\n",
       "       0, 1, 1, 1, 1, 0, 1, 0, 1, 0, 1, 1, 1, 0, 1, 1, 1, 1, 1, 1, 1, 0,\n",
       "       0, 0, 1, 1, 1, 1, 1, 1, 1, 1, 1, 1, 1, 0, 0, 1, 0, 0, 0, 1, 0, 0,\n",
       "       1, 1, 1, 1, 1, 0, 1, 1, 1, 1, 1, 0, 1, 1, 1, 0, 1, 1, 0, 0, 1, 1,\n",
       "       1, 1, 1, 1, 0, 1, 1, 1, 1, 1, 1, 1, 0, 1, 1, 1, 1, 1, 0, 1, 1, 0,\n",
       "       1, 1, 1, 1, 1, 1, 1, 1, 1, 1, 1, 1, 0, 1, 0, 0, 1, 0, 1, 1, 1, 1,\n",
       "       1, 0, 1, 1, 0, 1, 0, 1, 1, 0, 1, 0, 1, 1, 1, 1, 1, 1, 1, 1, 0, 0,\n",
       "       1, 1, 1, 1, 1, 1, 0, 1, 1, 1, 1, 1, 1, 1, 1, 1, 1, 0, 1, 1, 1, 1,\n",
       "       1, 1, 1, 0, 1, 0, 1, 1, 0, 1, 1, 1, 1, 1, 0, 0, 1, 0, 1, 0, 1, 1,\n",
       "       1, 1, 1, 0, 1, 1, 0, 1, 0, 1, 0, 0, 1, 1, 1, 0, 1, 1, 1, 1, 1, 1,\n",
       "       1, 1, 1, 1, 1, 0, 1, 0, 0, 1, 1, 1, 1, 1, 1, 1, 1, 1, 1, 1, 1, 1,\n",
       "       1, 1, 1, 1, 1, 1, 1, 1, 1, 1, 1, 1, 0, 0, 0, 0, 0, 0, 1])"
      ]
     },
     "execution_count": 5,
     "metadata": {},
     "output_type": "execute_result"
    }
   ],
   "source": [
    "X = dat[\"data\"][:,(ix1,ix2)]\n",
    "Y = dat[\"target\"]\n",
    "\n",
    "# verify shape of X and Y\n",
    "print(X.shape, Y.shape)\n",
    "\n",
    "# stats of the two features\n",
    "from scipy import stats\n",
    "st = stats.describe(X)\n",
    "print(\"Number of points: %i\" % st.nobs)\n",
    "print(\"range (min, max), X1: (%.2f, %.2f), X2: (%.2f, %.2f)\" % (st.minmax[0][0], st.minmax[1][0], st.minmax[0][1], st.minmax[1][1]))\n",
    "print(\"mean: %.2f, %.2f\" % (st.mean[0], st.mean[1]))\n",
    "print(\"variance: %.2f, %f\" % (st.variance[0], st.variance[1]))\n",
    "# Given the stats, is it a good idea to normalize the features?\n",
    "\n",
    "#\n",
    "# add code to normalize features\n",
    "#\n",
    "X1 = (X-X.min())/(X.max()-X.min())\n",
    "np.set_printoptions(formatter={'float_kind':'{:f}'.format})\n",
    "X1\n",
    "Y"
   ]
  },
  {
   "cell_type": "code",
   "execution_count": 6,
   "metadata": {},
   "outputs": [
    {
     "name": "stdout",
     "output_type": "stream",
     "text": [
      "(398, 2) (398,) (171, 2) (171,)\n"
     ]
    },
    {
     "data": {
      "text/plain": [
       "(171,)"
      ]
     },
     "execution_count": 6,
     "metadata": {},
     "output_type": "execute_result"
    }
   ],
   "source": [
    "# split into training set / test set\n",
    "#\n",
    "# usually you would do the split randomly; here for deterministic results, we assume the data \n",
    "# points are already shuffled and take the first 70% as training and the rest as test\n",
    "#\n",
    "nTot = X1.shape[0]\n",
    "nTr = int(nTot*0.7)\n",
    "nTs = nTot - nTr\n",
    "\n",
    "Xtr = X1[0:nTr,]\n",
    "Ytr = Y[0:nTr]\n",
    "\n",
    "Xts = X1[nTr:nTot,]\n",
    "Yts = Y[nTr:nTot,]\n",
    "\n",
    "# verify shapes\n",
    "print(Xtr.shape, Ytr.shape, Xts.shape, Yts.shape)\n",
    "#print(Xtr)\n",
    "#print(Xts)\n",
    "Yts.shape"
   ]
  },
  {
   "cell_type": "markdown",
   "metadata": {},
   "source": [
    "## k-NN Implementation"
   ]
  },
  {
   "cell_type": "code",
   "execution_count": 7,
   "metadata": {},
   "outputs": [],
   "source": [
    "def knn_predict(Xtr, Ytr, Xts, k):\n",
    "    # compute in two steps\n",
    "    \n",
    "    # step 1: compute dist matrix between Xts and Xtr\n",
    "    #\n",
    "    dist = compute_dist_mat(Xtr, Xts)\n",
    "    \n",
    "    # step 2: use the dist matrix and use k-nn to find labels for Xts \n",
    "    # hint: function numpy.argsort may be useful\n",
    "    # in case of a tie, pick a class randomly\n",
    "    \n",
    "    # YOUR CODE HERE\n",
    "    neighbors=[]\n",
    "    dist1=dist.argsort()\n",
    "    dis=dist1[:,:k]\n",
    "    fin_lab=[]\n",
    "    for j in Ytr[dis]:\n",
    "        c1=0\n",
    "        c2=0\n",
    "        for i in j:\n",
    "            if i==1:\n",
    "                c1+=1\n",
    "            else:\n",
    "                c2+=1\n",
    "            \n",
    "        if c1>c2:\n",
    "            fin_lab.append(1)\n",
    "        elif c2>c1:\n",
    "            fin_lab.append(0)\n",
    "        else:\n",
    "            fin_lab.append(randint(0,1))\n",
    "    \n",
    "    return np.asarray(fin_lab)\n",
    "  \n",
    "\n",
    "#  compute_dist_mat(Xts, Xtr)\n",
    "#\n",
    "#  input: Xts - test examples, size mXd\n",
    "#         Xtr - training examples, size nXd\n",
    "#  output: L2 distance matrix mXn\n",
    "#\n",
    "#   if Xts is mXd, and Xtr is nXd, this function returns a matrix of size mXn with the L2 distances; the (i,j) \n",
    "#     entry of the matrix is the L2 distance between ith test and jth training example \n",
    "#\n",
    "import math\n",
    "def compute_dist_mat(Xtr, Xts):    \n",
    "    # use two for loops to compute the matrix\n",
    "    \n",
    "    # YOUR CODE HERE\n",
    "    distances = []\n",
    "    \n",
    "    targets = []\n",
    "    for a in range(0,len(Xts)):\n",
    "        distances.append([])\n",
    "        for b in range(0,len(Xtr)):\n",
    "            d1=Xts[a][0]-Xtr[b][0]\n",
    "            d2=Xts[a][1]-Xtr[b][1]\n",
    "            dist=math.sqrt((d1**2)+(d2**2))\n",
    "            distances[a].append(dist)\n",
    "    return (np.asarray(distances))\n",
    "\n",
    "#U=knn_predict(Xtr,Ytr, Xts,5)\n",
    "#U\n",
    "#U=(knn_predict(Xtr,Xts))\n",
    "#print(np.argsort(U))"
   ]
  },
  {
   "cell_type": "code",
   "execution_count": 8,
   "metadata": {},
   "outputs": [
    {
     "data": {
      "text/plain": [
       "array([[0.249020, 0.378968, 0.329788, ..., 0.092323, 0.071931, 0.052019],\n",
       "       [0.227549, 0.357497, 0.308317, ..., 0.070852, 0.050460, 0.030548],\n",
       "       [0.002799, 0.132747, 0.083567, ..., 0.153898, 0.174290, 0.194202],\n",
       "       ...,\n",
       "       [0.057137, 0.187085, 0.137905, ..., 0.099560, 0.119952, 0.139864],\n",
       "       [0.105558, 0.024390, 0.024790, ..., 0.262255, 0.282647, 0.302559],\n",
       "       [0.327869, 0.457817, 0.408637, ..., 0.171172, 0.150780, 0.130868]])"
      ]
     },
     "execution_count": 8,
     "metadata": {},
     "output_type": "execute_result"
    }
   ],
   "source": [
    "compute_dist_mat(Xtr,Xts)"
   ]
  },
  {
   "cell_type": "markdown",
   "metadata": {},
   "source": [
    "Run your k-NN implementation on the test data set. Use k=5. Compute accuracy, recall and precision of the test data set (do not use python library functions to compute these). "
   ]
  },
  {
   "cell_type": "code",
   "execution_count": 9,
   "metadata": {},
   "outputs": [
    {
     "data": {
      "text/plain": [
       "85.96491228070175"
      ]
     },
     "execution_count": 9,
     "metadata": {},
     "output_type": "execute_result"
    }
   ],
   "source": [
    "# problem 2 solution\n",
    "pred=knn_predict(Xtr,Ytr, Xts,5)\n",
    "def getacc(Yts,pred):\n",
    "    \n",
    "    correct = 0\n",
    "    for x in range(len(Yts)):\n",
    "        if Yts[x]==pred[x]:\n",
    "            correct += 1\n",
    "    accuracy=(correct/float(len(Yts))) * 100.0\n",
    "    return accuracy\n",
    "\n",
    "getacc(Yts,pred)"
   ]
  },
  {
   "cell_type": "code",
   "execution_count": 10,
   "metadata": {},
   "outputs": [
    {
     "data": {
      "text/plain": [
       "(85.60606060606061, 95.76271186440678)"
      ]
     },
     "execution_count": 10,
     "metadata": {},
     "output_type": "execute_result"
    }
   ],
   "source": [
    "def rp(Yts,pred):\n",
    "    tp,fn,fp,tn=0,0,0,0\n",
    "    for i in range(len(Yts)):\n",
    "        if Yts[i]==1 and pred[i]==1:\n",
    "            tp+=1\n",
    "        if Yts[i]==1 and pred[i]==0:\n",
    "            fn+=1\n",
    "        if Yts[i]==0 and pred[i]==1:\n",
    "            fp+=1\n",
    "        if Yts[i]==0 and pred[i]==0:\n",
    "            tn+=1\n",
    "    recall=(tp/(tp+fn))*100\n",
    "    precision=(tp/(tp+fp))*100\n",
    "    return (recall,precision)\n",
    "rp(Yts,pred)"
   ]
  },
  {
   "cell_type": "markdown",
   "metadata": {},
   "source": [
    "## Cross-Validation\n",
    "\n",
    "Now we will implement 5-fold cross-validation to find the best value of $k$. And then using that value of $k$, re-run k-NN on the test data set. (This is adapted from a past Stanford cs231n assignment)"
   ]
  },
  {
   "cell_type": "code",
   "execution_count": 11,
   "metadata": {},
   "outputs": [
    {
     "name": "stdout",
     "output_type": "stream",
     "text": [
      "k = 1, accuracy = 73.750000\n",
      "k = 1, accuracy = 83.750000\n",
      "k = 1, accuracy = 76.250000\n",
      "k = 1, accuracy = 84.810127\n",
      "k = 1, accuracy = 82.278481\n",
      "k = 3, accuracy = 73.750000\n",
      "k = 3, accuracy = 83.750000\n",
      "k = 3, accuracy = 83.750000\n",
      "k = 3, accuracy = 89.873418\n",
      "k = 3, accuracy = 83.544304\n",
      "k = 5, accuracy = 73.750000\n",
      "k = 5, accuracy = 82.500000\n",
      "k = 5, accuracy = 81.250000\n",
      "k = 5, accuracy = 88.607595\n",
      "k = 5, accuracy = 88.607595\n",
      "k = 7, accuracy = 71.250000\n",
      "k = 7, accuracy = 81.250000\n",
      "k = 7, accuracy = 82.500000\n",
      "k = 7, accuracy = 89.873418\n",
      "k = 7, accuracy = 88.607595\n",
      "k = 9, accuracy = 71.250000\n",
      "k = 9, accuracy = 86.250000\n",
      "k = 9, accuracy = 82.500000\n",
      "k = 9, accuracy = 91.139241\n",
      "k = 9, accuracy = 88.607595\n",
      "k = 11, accuracy = 70.000000\n",
      "k = 11, accuracy = 85.000000\n",
      "k = 11, accuracy = 83.750000\n",
      "k = 11, accuracy = 89.873418\n",
      "k = 11, accuracy = 89.873418\n",
      "k = 13, accuracy = 71.250000\n",
      "k = 13, accuracy = 86.250000\n",
      "k = 13, accuracy = 83.750000\n",
      "k = 13, accuracy = 87.341772\n",
      "k = 13, accuracy = 89.873418\n",
      "k = 15, accuracy = 71.250000\n",
      "k = 15, accuracy = 86.250000\n",
      "k = 15, accuracy = 82.500000\n",
      "k = 15, accuracy = 89.873418\n",
      "k = 15, accuracy = 92.405063\n",
      "k = 20, accuracy = 71.250000\n",
      "k = 20, accuracy = 85.000000\n",
      "k = 20, accuracy = 83.750000\n",
      "k = 20, accuracy = 89.873418\n",
      "k = 20, accuracy = 89.873418\n",
      "k = 30, accuracy = 72.500000\n",
      "k = 30, accuracy = 83.750000\n",
      "k = 30, accuracy = 83.750000\n",
      "k = 30, accuracy = 92.405063\n",
      "k = 30, accuracy = 89.873418\n",
      "k = 40, accuracy = 72.500000\n",
      "k = 40, accuracy = 86.250000\n",
      "k = 40, accuracy = 83.750000\n",
      "k = 40, accuracy = 91.139241\n",
      "k = 40, accuracy = 93.670886\n",
      "k = 50, accuracy = 72.500000\n",
      "k = 50, accuracy = 85.000000\n",
      "k = 50, accuracy = 83.750000\n",
      "k = 50, accuracy = 93.670886\n",
      "k = 50, accuracy = 92.405063\n",
      "k = 75, accuracy = 71.250000\n",
      "k = 75, accuracy = 85.000000\n",
      "k = 75, accuracy = 82.500000\n",
      "k = 75, accuracy = 93.670886\n",
      "k = 75, accuracy = 93.670886\n",
      "k = 100, accuracy = 67.500000\n",
      "k = 100, accuracy = 86.250000\n",
      "k = 100, accuracy = 82.500000\n",
      "k = 100, accuracy = 94.936709\n",
      "k = 100, accuracy = 93.670886\n"
     ]
    }
   ],
   "source": [
    "num_folds = 5\n",
    "k_choices = [1, 3, 5, 7, 9, 11, 13, 15, 20, 30, 40, 50, 75, 100]\n",
    "\n",
    "X_train_folds = []\n",
    "y_train_folds = []\n",
    "from random import randint\n",
    "################################################################################\n",
    "# TODO:                                                                        #\n",
    "# Split up the training data into folds. After splitting, X_train_folds and    #\n",
    "# y_train_folds should each be lists of length num_folds, where                #\n",
    "# y_train_folds[i] is the label vector for the points in X_train_folds[i].     #\n",
    "# Hint: Look up the numpy array_split function.                                #\n",
    "################################################################################\n",
    "X_train_folds=np.array_split(Xtr, 5)\n",
    "y_train_folds = np.array_split(Ytr, 5)\n",
    "################################################################################\n",
    "#                                 END OF YOUR CODE                             #\n",
    "################################################################################\n",
    "\n",
    "# A dictionary holding the accuracies for different values of k that we find\n",
    "# when running cross-validation. After running cross-validation,\n",
    "# k_to_accuracies[k] should be a list of length num_folds giving the different\n",
    "# accuracy values that we found when using that value of k.\n",
    "k_to_accuracies = {}\n",
    "X_train_folds=np.array_split(Xtr,num_folds)\n",
    "y_train_folds=np.array_split(Ytr,num_folds)\n",
    "for i in k_choices:\n",
    "    newlist=[]\n",
    "    for j in range(num_folds):\n",
    "        X1=np.concatenate(X_train_folds[:j]+ X_train_folds[j+1:],axis=0)\n",
    "        Y1=np.concatenate(y_train_folds[:j]+ y_train_folds[j+1:],axis=0)\n",
    "        prediction=knn_predict(X1, Y1, X_train_folds[j], i)\n",
    "        accuracy1=getacc(y_train_folds[j],prediction)\n",
    "        newlist.append(accuracy1)\n",
    "    k_to_accuracies[i]=newlist\n",
    "#print(k_to_accuracies)\n",
    "################################################################################\n",
    "# TODO:                                                                        #\n",
    "# Perform k-fold cross validation to find the best value of k. For each        #\n",
    "# possible value of k, run the k-nearest-neighbor algorithm num_folds times,   #\n",
    "# where in each case you use all but one of the folds as training data and the #\n",
    "# last fold as a validation set. Store the accuracies for all fold and all     #\n",
    "# values of k in the k_to_accuracies dictionary.                               #\n",
    "################################################################################\n",
    "pass\n",
    "\n",
    "################################################################################\n",
    "#                                 END OF YOUR CODE                             #\n",
    "################################################################################\n",
    "\n",
    "# Print out the computed accuracies\n",
    "for k in sorted(k_to_accuracies):\n",
    "    for accuracy in k_to_accuracies[k]:\n",
    "        print('k = %d, accuracy = %f' % (k, accuracy))\n",
    "\n",
    "#X_train_folds\n",
    "#y_train_folds"
   ]
  },
  {
   "cell_type": "code",
   "execution_count": 12,
   "metadata": {},
   "outputs": [
    {
     "data": {
      "image/png": "[encoded data removed]",
      "text/plain": [
       "<Figure size 432x288 with 1 Axes>"
      ]
     },
     "metadata": {},
     "output_type": "display_data"
    }
   ],
   "source": [
    "# plot the raw observations\n",
    "import matplotlib.pyplot as plt\n",
    "%matplotlib inline\n",
    "#figure(num=None, figsize=(15, 9))\n",
    "for k in k_choices:\n",
    "    accuracies = k_to_accuracies[k]\n",
    "    plt.scatter([k] * len(accuracies), accuracies)\n",
    "\n",
    "# plot the trend line with error bars that correspond to standard deviation\n",
    "accuracies_mean = np.array([np.mean(v) for k,v in sorted(k_to_accuracies.items())])\n",
    "accuracies_std = np.array([np.std(v) for k,v in sorted(k_to_accuracies.items())])\n",
    "plt.errorbar(k_choices, accuracies_mean, yerr=accuracies_std)\n",
    "plt.title('Cross-validation on k')\n",
    "plt.xlabel('k')\n",
    "plt.ylabel('Cross-validation accuracy')\n",
    "plt.show()"
   ]
  },
  {
   "cell_type": "markdown",
   "metadata": {},
   "source": [
    "Based on the cross-validation results above, choose the best value for $k$. Repeat problem 2 with this $k$ (using the entire training data set)."
   ]
  },
  {
   "cell_type": "code",
   "execution_count": 13,
   "metadata": {},
   "outputs": [
    {
     "name": "stdout",
     "output_type": "stream",
     "text": [
      "[50]\n"
     ]
    },
    {
     "data": {
      "text/plain": [
       "87.13450292397661"
      ]
     },
     "execution_count": 13,
     "metadata": {},
     "output_type": "execute_result"
    }
   ],
   "source": [
    "#problem 4 solution\n",
    "newdict={}\n",
    "for k,v in k_to_accuracies.items():\n",
    "    newdict[k]=sum(k_to_accuracies[k])/len(k_to_accuracies[k])\n",
    "max_avg=max(newdict.values())\n",
    "bk=[k for k,v in newdict.items() if v==max_avg]\n",
    "print(bk)\n",
    "y_prediction=knn_predict(Xtr, Ytr, Xts, bk[0])\n",
    "best_accuracy=getacc(Yts,y_prediction)\n",
    "best_accuracy"
   ]
  },
  {
   "cell_type": "markdown",
   "metadata": {},
   "source": [
    "Re-write the compute_dist_mat() function with no loops. That may seem non-intuitive, but it is possible to compute the L2 distances using matrix operations (matrix multiplication, addition, etc.) without explicitly doing the double for loop. The advantage of using matrix operations is that they are highly optimized and enable \"vectorization\", and for such computations can give 10-100x speed improvements."
   ]
  },
  {
   "cell_type": "code",
   "execution_count": 14,
   "metadata": {},
   "outputs": [
    {
     "data": {
      "text/plain": [
       "matrix([[0.249020, 0.378968, 0.329788, ..., 0.092323, 0.071931, 0.052019],\n",
       "        [0.227549, 0.357497, 0.308317, ..., 0.070852, 0.050460, 0.030548],\n",
       "        [0.002799, 0.132747, 0.083567, ..., 0.153898, 0.174290, 0.194202],\n",
       "        ...,\n",
       "        [0.057137, 0.187085, 0.137905, ..., 0.099560, 0.119952, 0.139864],\n",
       "        [0.105558, 0.024390, 0.024790, ..., 0.262255, 0.282647, 0.302559],\n",
       "        [0.327869, 0.457817, 0.408637, ..., 0.171172, 0.150780, 0.130868]])"
      ]
     },
     "execution_count": 14,
     "metadata": {},
     "output_type": "execute_result"
    }
   ],
   "source": [
    "def noloop_compute_dist_mat(Xtr,Xts):\n",
    "    shape=(len(Xtr), len(Xts))\n",
    "    dist_matrix = np.zeros(shape)    \n",
    "    dot_product = np.dot(Xts, Xtr.T)\n",
    "    testex = np.square(Xts).sum(axis=1)\n",
    "    trainex = np.square(Xtr).sum(axis=1)\n",
    "    dist_matrix = np.sqrt(-2*dot_product + np.matrix(trainex) + np.matrix(testex).T)\n",
    "    return dist_matrix\n",
    "\n",
    "noloop_compute_dist_mat(Xtr,Xts)\n",
    "\n",
    "##Ref:https://mlxai.github.io/2017/01/03/finding-distances-between-data-points-with-numpy.html"
   ]
  }
 ],
 "metadata": {
  "kernelspec": {
   "display_name": "Python 3",
   "language": "python",
   "name": "python3"
  },
  "language_info": {
   "codemirror_mode": {
    "name": "ipython",
    "version": 3
   },
   "file_extension": ".py",
   "mimetype": "text/x-python",
   "name": "python",
   "nbconvert_exporter": "python",
   "pygments_lexer": "ipython3",
   "version": "3.6.5"
  }
 },
 "nbformat": 4,
 "nbformat_minor": 2
}
